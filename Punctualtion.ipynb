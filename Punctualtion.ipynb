{
  "nbformat": 4,
  "nbformat_minor": 0,
  "metadata": {
    "colab": {
      "provenance": [],
      "authorship_tag": "ABX9TyOvukgPvAe7fym6XtyLqdYb",
      "include_colab_link": true
    },
    "kernelspec": {
      "name": "python3",
      "display_name": "Python 3"
    },
    "language_info": {
      "name": "python"
    }
  },
  "cells": [
    {
      "cell_type": "markdown",
      "metadata": {
        "id": "view-in-github",
        "colab_type": "text"
      },
      "source": [
        "<a href=\"https://colab.research.google.com/github/GandhamCharanSai/FML/blob/main/Punctualtion.ipynb\" target=\"_parent\"><img src=\"https://colab.research.google.com/assets/colab-badge.svg\" alt=\"Open In Colab\"/></a>"
      ]
    },
    {
      "cell_type": "code",
      "execution_count": 2,
      "metadata": {
        "colab": {
          "base_uri": "https://localhost:8080/"
        },
        "id": "vlTbaRbMr9Gk",
        "outputId": "5c9335f0-47d9-4e68-e244-a17e98ee44d2"
      },
      "outputs": [
        {
          "output_type": "stream",
          "name": "stdout",
          "text": [
            "nltkremovepunctualtion\n"
          ]
        }
      ],
      "source": [
        "import re\n",
        "str_with_pun=\"nltk@%,^remove#!punctualtion\"\n",
        "str_without_pun=re.sub(r'[^\\w\\s]','',str_with_pun)\n",
        "print(str_without_pun)"
      ]
    }
  ]
}